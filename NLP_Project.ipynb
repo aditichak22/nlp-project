{
  "nbformat": 4,
  "nbformat_minor": 0,
  "metadata": {
    "colab": {
      "provenance": []
    },
    "kernelspec": {
      "name": "python3",
      "display_name": "Python 3"
    },
    "language_info": {
      "name": "python"
    },
    "accelerator": "GPU"
  },
  "cells": [
    {
      "cell_type": "code",
      "metadata": {
        "colab": {
          "base_uri": "https://localhost:8080/"
        },
        "id": "5R17LdvDTDWa",
        "outputId": "6ec1ea4a-bcfe-490e-8c20-9b8662d772d1"
      },
      "source": [
        "!pip install keras numpy wget"
      ],
      "execution_count": null,
      "outputs": [
        {
          "output_type": "stream",
          "name": "stdout",
          "text": [
            "Requirement already satisfied: keras in /usr/local/lib/python3.7/dist-packages (2.7.0)\n",
            "Requirement already satisfied: numpy in /usr/local/lib/python3.7/dist-packages (1.19.5)\n",
            "Collecting wget\n",
            "  Downloading wget-3.2.zip (10 kB)\n",
            "Building wheels for collected packages: wget\n",
            "  Building wheel for wget (setup.py) ... \u001b[?25l\u001b[?25hdone\n",
            "  Created wheel for wget: filename=wget-3.2-py3-none-any.whl size=9672 sha256=16057f2bd1236e93e1dfd1b5c4f1d22710f6e30e967a52cd7abab5dafda336b8\n",
            "  Stored in directory: /root/.cache/pip/wheels/a1/b6/7c/0e63e34eb06634181c63adacca38b79ff8f35c37e3c13e3c02\n",
            "Successfully built wget\n",
            "Installing collected packages: wget\n",
            "Successfully installed wget-3.2\n"
          ]
        }
      ]
    },
    {
      "cell_type": "code",
      "metadata": {
        "colab": {
          "base_uri": "https://localhost:8080/"
        },
        "id": "SCZTPe4hS5Ih",
        "outputId": "9a558e27-e07f-4e85-b708-c94828ece208"
      },
      "source": [
        "from google.colab import drive\n",
        "\n",
        "drive.mount('/content/drive')"
      ],
      "execution_count": null,
      "outputs": [
        {
          "output_type": "stream",
          "name": "stdout",
          "text": [
            "Mounted at /content/drive\n"
          ]
        }
      ]
    },
    {
      "cell_type": "code",
      "metadata": {
        "id": "-b39RvulTECa"
      },
      "source": [
        "import os\n",
        "import io\n",
        "import sys\n",
        "import pandas as pd"
      ],
      "execution_count": null,
      "outputs": []
    },
    {
      "cell_type": "code",
      "metadata": {
        "id": "6ZaLxopNTKgR"
      },
      "source": [
        "def load_corpus(path):\n",
        "\n",
        "  relations = [\"Cause-Effect\", \"Component-Whole\", \"Entity-Destination\", \"Entity-Origin\", \"Other-Relation\"]\n",
        "  other = \"Other-Relation\"\n",
        "  with open(path, 'r') as f: \n",
        "    data = f.readlines()\n",
        "    # Every 4 lines is one chunk\n",
        "    # 2nd line is the relation \n",
        "    return data\n",
        "\n",
        "\n",
        "trainingData = load_corpus('/content/drive/My Drive/TRAIN_FILE.TXT')"
      ],
      "execution_count": null,
      "outputs": []
    },
    {
      "cell_type": "code",
      "metadata": {
        "id": "gp7wX9FBXLcV",
        "colab": {
          "base_uri": "https://localhost:8080/"
        },
        "outputId": "75589baf-6ab9-4850-b64e-3b6032547452"
      },
      "source": [
        "def replaceRelations(data):\n",
        "  filteredData = [d.replace(\"Other\", \"Other-Relation\").replace(\"Member-Collection\", \"Other-Relation\").replace(\"Product-Producer\", \"Other-Relation\")\n",
        "  .replace(\"Content-Container\", \"Other-Relation\")\n",
        "  .replace(\"Message-Topic\", \"Other-Relation\").replace(\"Instrument-Agency\", \"Other-Relation\") for d in data]\n",
        "  print(filteredData[8])\n",
        "  print(filteredData[9])\n",
        "  print(filteredData[10])\n",
        "  print(filteredData[11])\n",
        "  return filteredData\n",
        "\n",
        "filteredData = replaceRelations(trainingData)\n"
      ],
      "execution_count": null,
      "outputs": [
        {
          "output_type": "stream",
          "name": "stdout",
          "text": [
            "3\t\"The <e1>author</e1> of a keygen uses a <e2>disassembler</e2> to look at the raw assembly code.\"\n",
            "\n",
            "Other-Relation(e2,e1)\n",
            "\n",
            "Comment:\n",
            "\n",
            "\n",
            "\n"
          ]
        }
      ]
    },
    {
      "cell_type": "code",
      "metadata": {
        "id": "-FSMiIdrjhoO"
      },
      "source": [
        "def removeComments(filteredData):\n",
        "\n",
        "  noEntity = filteredData[::2]\n",
        "  noComment = noEntity[::2]\n",
        "\n",
        "  return noComment\n",
        "\n",
        "noComment = removeComments(filteredData)\n"
      ],
      "execution_count": null,
      "outputs": []
    },
    {
      "cell_type": "code",
      "metadata": {
        "colab": {
          "base_uri": "https://localhost:8080/"
        },
        "id": "OZR_LoU38hSM",
        "outputId": "12e75d7c-a922-4ab8-98c7-051d98637c8e"
      },
      "source": [
        "import re\n",
        "\n",
        "def datasetStats(filteredData, noComment):\n",
        "  otherRelation = re.compile(\"Other-Relation*\")\n",
        "  causeEffect = re.compile(\"Cause-Effect*\")\n",
        "  componentWhole = re.compile(\"Component-Whole*\")\n",
        "  entityDestination = re.compile(\"Entity-Destination*\")\n",
        "  entityOrigin = re.compile(\"Entity-Origin*\")\n",
        "\n",
        "  otherRelationSum = sum(1 for x in filteredData if otherRelation.match(x))\n",
        "  causeEffectSum = sum(1 for x in filteredData if causeEffect.match(x))\n",
        "  componentWholeSum = sum(1 for x in filteredData if componentWhole.match(x))\n",
        "  entityDestination = sum(1 for x in filteredData if entityDestination.match(x))\n",
        "  entityOrigin = sum(1 for x in filteredData if entityOrigin.match(x))\n",
        "\n",
        "  totalSentences = len(noComment)\n",
        "\n",
        "  otherRelationPercent = \"{:.2f}\".format(otherRelationSum/totalSentences * 100)\n",
        "  causeEffectPercent = \"{:.2f}\".format(causeEffectSum/totalSentences * 100)\n",
        "  componentWholePercent = \"{:.2f}\".format(componentWholeSum/totalSentences * 100)\n",
        "  entityDestinationPercent = \"{:.2f}\".format(entityDestination/totalSentences * 100)\n",
        "  entityOriginPercent = \"{:.2f}\".format(entityOrigin/totalSentences * 100)\n",
        "\n",
        "  print(\"Dataset Statistics\")\n",
        "  print(\"Total sentences\", totalSentences)\n",
        "  print(\"Other-Relation - \", otherRelationSum, \"(\"+ otherRelationPercent + \"%\"+\")\")\n",
        "  print(\"Cause-Effect - \", causeEffectSum, \"(\"+ causeEffectPercent + \"%\"+\")\")\n",
        "  print(\"Component-Whole - \", componentWholeSum, \"(\"+ componentWholePercent +\"%\"+\")\")\n",
        "  print(\"Entity-Destination - \", entityDestination, \"(\"+entityDestinationPercent +\"%\"+\")\")\n",
        "  print(\"Entity-Origin - \", entityOrigin, \"(\"+entityOriginPercent + \"%\"+\")\")\n",
        "\n",
        "\n",
        "# Cause-Effect, Component-Whole, Entity-Destination,\n",
        "# Entity-Origin, and Other-Relation\n",
        "datasetStats(filteredData, noComment)\n"
      ],
      "execution_count": null,
      "outputs": [
        {
          "output_type": "stream",
          "name": "stdout",
          "text": [
            "Dataset Statistics\n",
            "Total sentences 8000\n",
            "Other-Relation -  4495 (56.19%)\n",
            "Cause-Effect -  1003 (12.54%)\n",
            "Component-Whole -  941 (11.76%)\n",
            "Entity-Destination -  845 (10.56%)\n",
            "Entity-Origin -  716 (8.95%)\n"
          ]
        }
      ]
    },
    {
      "cell_type": "code",
      "metadata": {
        "id": "ukGyl0FUwxA3"
      },
      "source": [
        "def cleanComments(filteredData):\n",
        "  jk = [x for x in filteredData if not x.startswith(\"Comment\") and len(x) > 1]\n",
        "  return jk\n",
        "\n",
        "jk = cleanComments(filteredData)"
      ],
      "execution_count": null,
      "outputs": []
    },
    {
      "cell_type": "code",
      "metadata": {
        "id": "9Sy4NNoFf7iZ"
      },
      "source": [
        "\n",
        "import string\n",
        "from string import digits\n",
        "import re\n",
        "def cleanSentences(noComment):\n",
        "  lines = []\n",
        "  for d in noComment:\n",
        "    noTabs = re.sub('\\s+',' ', d)\n",
        "    # elems = noTabs.replace(\"<e1>\", \" _e1_ \").replace(\"</e1>\", \" _e1_ \").replace(\"<e2>\", \" _e2_ \").replace(\"</e2>\", \" _e2_ \")\n",
        "    # noNums = noTabs.translate(str.maketrans('', '', digits))\n",
        "    lines.append(noTabs)\n",
        "  return lines\n",
        "  # print(lines[1:5])\n",
        "\n",
        "lines = cleanSentences(noComment)"
      ],
      "execution_count": null,
      "outputs": []
    },
    {
      "cell_type": "code",
      "metadata": {
        "id": "fZ5-KbvNVXP6"
      },
      "source": [
        "import string\n",
        "from string import digits\n",
        "\n",
        "def maxLength(sentences):\n",
        "  # print(len(sentences[0]))\n",
        "  return max(len(d) for d in sentences)\n",
        "\n",
        "def removeTokens(lines):\n",
        "  sentences = []\n",
        "  maxLen = maxLength(lines)\n",
        "  for sent in lines:\n",
        "    filteredElem = sent.replace(\"<e1>\", \"<eO>\").replace(\"</e1>\", \"\").replace(\"<e2>\", \"<eT>\").replace(\"</e2>\", \"\").strip()\n",
        "    noNums = filteredElem.translate(str.maketrans('', '', digits))\n",
        "    sentence = noNums.split(\" \")\n",
        "    sentence = [w for w in sentence if len(w) > 1]\n",
        "    line = \" \".join(sentence)\n",
        "    sentences.append(line)\n",
        "  \n",
        "  return sentences\n",
        "\n",
        "sentences = removeTokens(lines)\n",
        "  \n",
        "  # break\n",
        "# print(sentences)\n",
        "\n",
        "\n"
      ],
      "execution_count": null,
      "outputs": []
    },
    {
      "cell_type": "code",
      "metadata": {
        "colab": {
          "base_uri": "https://localhost:8080/"
        },
        "id": "en-mMmVlmt11",
        "outputId": "3d57af3f-1557-495c-c4cf-6429a1081088"
      },
      "source": [
        "from keras.preprocessing.text import Tokenizer\n",
        "\n",
        "def create_tokenizer(sentences):\n",
        "\ttokenizer = Tokenizer()\n",
        "\ttokenizer.fit_on_texts(sentences)\n",
        "\treturn tokenizer\n",
        "\n",
        "\n",
        "\n",
        " \n",
        "\n",
        "tokenizer = create_tokenizer(sentences)\n",
        "vocabSize = len(tokenizer.word_index) + 1\n",
        "print(vocabSize)\n",
        "maxSentenceLength = maxLength(sentences)\n",
        "print(maxSentenceLength)"
      ],
      "execution_count": null,
      "outputs": [
        {
          "output_type": "stream",
          "name": "stdout",
          "text": [
            "19144\n",
            "498\n"
          ]
        }
      ]
    },
    {
      "cell_type": "code",
      "metadata": {
        "id": "JWi6bZca4CF6"
      },
      "source": [
        "def get_relative_position(sentences, max_sentence_length):\n",
        "    # Position data\n",
        "    firstToken = []\n",
        "    secondToken = []\n",
        "    words = []\n",
        "    for sent in sentences:\n",
        "      sent = sent.split(\" \")\n",
        "      pos1 = [0 for x in range(len(sent))]\n",
        "      pos2 = [0 for x in range(len(sent))]\n",
        "      token1 = [i for i, s in enumerate(sent) if '<eO>' in s]\n",
        "      token2 = [i for i, s in enumerate(sent) if '<eT>' in s]\n",
        "      sentenceLen = len(sent)\n",
        "      for i in range(sentenceLen):\n",
        "        pos1[i] = max_sentence_length +  (i - token1[0])\n",
        "        pos2[i] = max_sentence_length +  (i - token2[0])\n",
        "      firstToken.append(pos1)\n",
        "      secondToken.append(pos2)\n",
        "      line = \" \".join(sent).replace(\"<eO>\", \"\").replace(\"<eT>\", \"\")\n",
        "      words.append(line)\n",
        "\n",
        "    return words, firstToken, secondToken\n",
        "\n",
        "\n",
        "words, firstToken, secondToken = get_relative_position(sentences, maxSentenceLength)"
      ],
      "execution_count": null,
      "outputs": []
    },
    {
      "cell_type": "code",
      "metadata": {
        "id": "qaklvD3r3vW4"
      },
      "source": [
        "import pandas as pd\n",
        "\n",
        "def createDF(labelData, words, firstToken, secondToken):\n",
        "  # b = jk[::2]\n",
        "  entityLables = labelData[1::2]\n",
        "  # labels = []\n",
        "  pattern = r'\\([^)]*\\)'\n",
        "  entitySet = [re.sub(r'\\([^)]*\\)', '', x.strip()) for x in entityLables]\n",
        "  # print(len(entitySet))\n",
        "\n",
        "\n",
        "  dataTuples = list(zip(words,entitySet,firstToken,secondToken))\n",
        "  df = pd.DataFrame(dataTuples, columns=['sentences','labels','firstToken', 'secondToken'])\n",
        "  df.head(n=10)\n",
        "  # print(len(dataTuples))\n",
        "  return df\n",
        "\n",
        "df = createDF(jk, words, firstToken, secondToken)\n",
        "\n",
        "\n"
      ],
      "execution_count": null,
      "outputs": []
    },
    {
      "cell_type": "code",
      "metadata": {
        "colab": {
          "base_uri": "https://localhost:8080/"
        },
        "id": "-uKBvNQUFyye",
        "outputId": "a2d5510c-581a-4d87-fdde-ec070d5b016e"
      },
      "source": [
        "from keras.preprocessing.text import Tokenizer\n",
        "from keras.preprocessing.sequence import pad_sequences\n",
        "\n",
        "def getTokenizer(df):\n",
        "  # vocabulary size\n",
        "  n_most_common_words = 20000\n",
        "  # Initialization\n",
        "  tokenizer = Tokenizer(num_words=n_most_common_words, filters='!\"#$%&()*+,-./:;=?@[]^_`{|}~', lower=True, oov_token='-1')\n",
        "  # Fit and transformation\n",
        "  tokenizer.fit_on_texts(df['sentences'].values)\n",
        "  return tokenizer\n",
        "\n",
        "def getSequences(tokenizer, lines):\n",
        "  sequences = tokenizer.texts_to_sequences(lines)\n",
        "  # print(\"seq\", sequences)\n",
        "  word_index = tokenizer.word_index\n",
        "  print('Found %s unique tokens.' % len(word_index))\n",
        "  return sequences\n",
        "\n",
        "def padX(sequences):\n",
        "  # Padding\n",
        "  # print(word_index)\n",
        "  X = pad_sequences(sequences, maxlen=maxSentenceLength)\n",
        "  return X \n",
        "\n",
        "trainedTokenizer = getTokenizer(df)\n",
        "sequencesX = getSequences(trainedTokenizer, lines)\n",
        "X = padX(sequencesX)"
      ],
      "execution_count": null,
      "outputs": [
        {
          "output_type": "stream",
          "name": "stdout",
          "text": [
            "Found 19150 unique tokens.\n"
          ]
        }
      ]
    },
    {
      "cell_type": "code",
      "metadata": {
        "id": "FGyDBNlijvp8"
      },
      "source": [
        "X_pos1 = pad_sequences(firstToken, maxlen=maxSentenceLength)\n",
        "X_pos2 = pad_sequences(secondToken, maxlen=maxSentenceLength)"
      ],
      "execution_count": null,
      "outputs": []
    },
    {
      "cell_type": "code",
      "metadata": {
        "colab": {
          "base_uri": "https://localhost:8080/"
        },
        "id": "N96sKctbkM7P",
        "outputId": "eb51d37c-492f-4898-90b2-4abd09e3bec3"
      },
      "source": [
        "print(len(X))\n",
        "print(len(X_pos1))\n",
        "print(len(X_pos2))"
      ],
      "execution_count": null,
      "outputs": [
        {
          "output_type": "stream",
          "name": "stdout",
          "text": [
            "8000\n",
            "8000\n",
            "8000\n"
          ]
        }
      ]
    },
    {
      "cell_type": "code",
      "metadata": {
        "id": "0U7q3I4j3t_J"
      },
      "source": [
        "from tensorflow.keras.utils import to_categorical\n",
        "from sklearn.preprocessing import LabelEncoder\n",
        "import numpy as np\n",
        "\n",
        "def encodeLables(df): \n",
        "  col = np.array(df['labels'])\n",
        "  label_encoder = LabelEncoder()\n",
        "  vec = label_encoder.fit_transform(col)\n",
        "\n",
        "  labels = to_categorical(vec, num_classes=len(df.labels.unique()))\n",
        "  return labels\n",
        "\n",
        "labels = encodeLables(df)"
      ],
      "execution_count": null,
      "outputs": []
    },
    {
      "cell_type": "code",
      "metadata": {
        "colab": {
          "base_uri": "https://localhost:8080/"
        },
        "id": "lofXIMlbkGeB",
        "outputId": "5a7e963f-1442-45a7-cbb1-49a627d81a9d"
      },
      "source": [
        "print(df.labels.unique())\n",
        "print(labels)"
      ],
      "execution_count": null,
      "outputs": [
        {
          "output_type": "stream",
          "name": "stdout",
          "text": [
            "['Component-Whole' 'Other-Relation' 'Cause-Effect' 'Entity-Destination'\n",
            " 'Entity-Origin']\n",
            "[[0. 1. 0. 0. 0.]\n",
            " [0. 0. 0. 0. 1.]\n",
            " [0. 0. 0. 0. 1.]\n",
            " ...\n",
            " [0. 0. 1. 0. 0.]\n",
            " [0. 0. 0. 0. 1.]\n",
            " [0. 0. 0. 0. 1.]]\n"
          ]
        }
      ]
    },
    {
      "cell_type": "code",
      "metadata": {
        "id": "KWiZXXvyK3b9"
      },
      "source": [
        "from sklearn.model_selection import train_test_split\n",
        "\n",
        "X_train, X_test, y_train, y_test = train_test_split(X , labels, test_size=0.20, random_state=42)\n",
        "X_train_pos1, X_test_pos1, y_train_pos1, y_test_pos1 = train_test_split(X_pos1 , labels, test_size=0.20, random_state=42)\n",
        "X_train_pos2, X_test_pos2, y_train_pos2, y_test_pos2 = train_test_split(X_pos2 , labels, test_size=0.20, random_state=42)\n"
      ],
      "execution_count": null,
      "outputs": []
    },
    {
      "cell_type": "code",
      "metadata": {
        "colab": {
          "base_uri": "https://localhost:8080/"
        },
        "id": "GseQXw8fMuf0",
        "outputId": "687e9a70-85c0-42f4-b02d-cad16ec816e0"
      },
      "source": [
        "from keras.models import Sequential\n",
        "from keras.models import Model\n",
        "from keras.layers import InputLayer, Activation\n",
        "from keras.layers import Dense, LSTM, InputLayer, Bidirectional, TimeDistributed, Embedding, Input, concatenate\n",
        "from tensorflow.keras.optimizers import Adam \n",
        "\n",
        "embedding_size = 300\n",
        "n_most_common_words = 20000\n",
        "embed_layer = Embedding(n_most_common_words, embedding_size)\n",
        "input_seq = Input(shape=(X_train.shape[1],))\n",
        "embed_seq = embed_layer(input_seq)\n",
        "\n",
        "input_seq_pos1 = Input(shape=(X_train_pos1.shape[1],))\n",
        "embed_seq_pos1 = Embedding(X_train_pos1.shape[1]*2,100,input_length=maxSentenceLength,trainable=True)(input_seq_pos1)\n",
        "input_seq_pos2 = Input(shape=(X_train_pos2.shape[1],))\n",
        "embed_seq_pos2 = Embedding(X_train_pos2.shape[1]*2,100,input_length=maxSentenceLength,trainable=True)(input_seq_pos2)\n",
        "\n",
        "\n",
        "con = concatenate([embed_seq, embed_seq_pos1, embed_seq_pos2])\n",
        "lstm = Bidirectional(LSTM(128, dropout=0.7, recurrent_dropout=0.7,))(con)\n",
        "preds = Dense(labels.shape[1],activation=\"softmax\")(lstm)\n",
        "model = Model(inputs=[input_seq, input_seq_pos1, input_seq_pos2], outputs=preds)\n",
        "model.compile(loss=\"categorical_crossentropy\",optimizer=\"adam\",metrics=[\"accuracy\"])\n",
        "print(model.summary())\n"
      ],
      "execution_count": null,
      "outputs": [
        {
          "output_type": "stream",
          "name": "stdout",
          "text": [
            "WARNING:tensorflow:Layer lstm will not use cuDNN kernels since it doesn't meet the criteria. It will use a generic GPU kernel as fallback when running on GPU.\n",
            "WARNING:tensorflow:Layer lstm will not use cuDNN kernels since it doesn't meet the criteria. It will use a generic GPU kernel as fallback when running on GPU.\n",
            "WARNING:tensorflow:Layer lstm will not use cuDNN kernels since it doesn't meet the criteria. It will use a generic GPU kernel as fallback when running on GPU.\n",
            "Model: \"model\"\n",
            "__________________________________________________________________________________________________\n",
            " Layer (type)                   Output Shape         Param #     Connected to                     \n",
            "==================================================================================================\n",
            " input_1 (InputLayer)           [(None, 498)]        0           []                               \n",
            "                                                                                                  \n",
            " input_2 (InputLayer)           [(None, 498)]        0           []                               \n",
            "                                                                                                  \n",
            " input_3 (InputLayer)           [(None, 498)]        0           []                               \n",
            "                                                                                                  \n",
            " embedding (Embedding)          (None, 498, 300)     6000000     ['input_1[0][0]']                \n",
            "                                                                                                  \n",
            " embedding_1 (Embedding)        (None, 498, 100)     99600       ['input_2[0][0]']                \n",
            "                                                                                                  \n",
            " embedding_2 (Embedding)        (None, 498, 100)     99600       ['input_3[0][0]']                \n",
            "                                                                                                  \n",
            " concatenate (Concatenate)      (None, 498, 500)     0           ['embedding[0][0]',              \n",
            "                                                                  'embedding_1[0][0]',            \n",
            "                                                                  'embedding_2[0][0]']            \n",
            "                                                                                                  \n",
            " bidirectional (Bidirectional)  (None, 256)          644096      ['concatenate[0][0]']            \n",
            "                                                                                                  \n",
            " dense (Dense)                  (None, 5)            1285        ['bidirectional[0][0]']          \n",
            "                                                                                                  \n",
            "==================================================================================================\n",
            "Total params: 6,844,581\n",
            "Trainable params: 6,844,581\n",
            "Non-trainable params: 0\n",
            "__________________________________________________________________________________________________\n",
            "None\n"
          ]
        }
      ]
    },
    {
      "cell_type": "code",
      "metadata": {
        "colab": {
          "base_uri": "https://localhost:8080/"
        },
        "id": "uSDIrJkcOXXz",
        "outputId": "d53eecc0-ec48-4adb-9244-72c6b4554d8b"
      },
      "source": [
        "model.fit([X_train, X_train_pos1, X_train_pos2], y_train, epochs=5,batch_size=128, validation_split=0.2)"
      ],
      "execution_count": null,
      "outputs": [
        {
          "output_type": "stream",
          "name": "stdout",
          "text": [
            "Epoch 1/5\n",
            "40/40 [==============================] - 121s 3s/step - loss: 1.2841 - accuracy: 0.5602 - val_loss: 1.2282 - val_accuracy: 0.5602\n",
            "Epoch 2/5\n",
            "40/40 [==============================] - 115s 3s/step - loss: 1.1337 - accuracy: 0.5920 - val_loss: 1.0540 - val_accuracy: 0.6141\n",
            "Epoch 3/5\n",
            "40/40 [==============================] - 112s 3s/step - loss: 0.8249 - accuracy: 0.6963 - val_loss: 0.8528 - val_accuracy: 0.6953\n",
            "Epoch 4/5\n",
            "40/40 [==============================] - 111s 3s/step - loss: 0.5694 - accuracy: 0.7922 - val_loss: 0.7973 - val_accuracy: 0.7180\n",
            "Epoch 5/5\n",
            "40/40 [==============================] - 113s 3s/step - loss: 0.3785 - accuracy: 0.8732 - val_loss: 0.8499 - val_accuracy: 0.7203\n"
          ]
        },
        {
          "output_type": "execute_result",
          "data": {
            "text/plain": [
              "<keras.callbacks.History at 0x7fac3aaf3850>"
            ]
          },
          "metadata": {},
          "execution_count": 20
        }
      ]
    },
    {
      "cell_type": "code",
      "metadata": {
        "id": "Ub_7bx5Iaa9i"
      },
      "source": [
        "from sklearn.metrics import confusion_matrix\n",
        "from sklearn.metrics import classification_report\n",
        "\n",
        "prediction_probas = model.predict([X_test, X_test_pos1, X_test_pos2])\n",
        "predictions = [np.argmax(pred) for pred in prediction_probas]\n"
      ],
      "execution_count": null,
      "outputs": []
    },
    {
      "cell_type": "code",
      "metadata": {
        "colab": {
          "base_uri": "https://localhost:8080/"
        },
        "id": "xXdQ4KddsVJC",
        "outputId": "c92ed2a1-63d3-4b4a-c7c6-b545d69c1d33"
      },
      "source": [
        "label_encoder = LabelEncoder()\n",
        "col = np.array(df['labels'])\n",
        "vec = label_encoder.fit_transform(col)\n",
        "labels = to_categorical(vec, num_classes=len(df.labels.unique()))\n",
        "transformedLables = list(label_encoder.inverse_transform([0,1,2,3,4]))\n",
        "transformedLables"
      ],
      "execution_count": null,
      "outputs": [
        {
          "output_type": "execute_result",
          "data": {
            "text/plain": [
              "['Cause-Effect',\n",
              " 'Component-Whole',\n",
              " 'Entity-Destination',\n",
              " 'Entity-Origin',\n",
              " 'Other-Relation']"
            ]
          },
          "metadata": {},
          "execution_count": 22
        }
      ]
    },
    {
      "cell_type": "code",
      "metadata": {
        "id": "Wsw0csgOdofg",
        "colab": {
          "base_uri": "https://localhost:8080/",
          "height": 361
        },
        "outputId": "59b3cc4a-08ff-4936-a43c-fc5f2ed13e00"
      },
      "source": [
        "from sklearn.metrics import confusion_matrix, ConfusionMatrixDisplay\n",
        "import matplotlib.pyplot as plt\n",
        "\n",
        "rounded_labels=np.argmax(y_test, axis=1)\n",
        "\n",
        "def plotCM(predictions, rounded_labels):\n",
        "  cm = confusion_matrix(rounded_labels, predictions)\n",
        "  disp = ConfusionMatrixDisplay(confusion_matrix=cm, display_labels=transformedLables)\n",
        "  disp.plot(xticks_rotation=90)\n",
        "  plt.show()\n",
        "\n",
        "\n",
        "\n",
        "plotCM(predictions, rounded_labels)\n",
        "\n",
        "\n"
      ],
      "execution_count": null,
      "outputs": [
        {
          "output_type": "display_data",
          "data": {
            "image/png": "[encoded data removed]",
            "text/plain": [
              "<Figure size 432x288 with 2 Axes>"
            ]
          },
          "metadata": {
            "needs_background": "light"
          }
        }
      ]
    },
    {
      "cell_type": "code",
      "metadata": {
        "colab": {
          "base_uri": "https://localhost:8080/"
        },
        "id": "TowkHldBkTju",
        "outputId": "17019d9f-99ee-4180-f593-9ea46e4827d8"
      },
      "source": [
        "rounded_labels=np.argmax(y_test, axis=1)\n",
        "print(len(y_test))\n",
        "print(len(rounded_labels))"
      ],
      "execution_count": null,
      "outputs": [
        {
          "output_type": "stream",
          "name": "stdout",
          "text": [
            "1600\n",
            "1600\n"
          ]
        }
      ]
    },
    {
      "cell_type": "code",
      "metadata": {
        "colab": {
          "base_uri": "https://localhost:8080/"
        },
        "id": "BmVTvcVGg9st",
        "outputId": "9b7751dc-7473-490f-debe-f16f730fa9d4"
      },
      "source": [
        "rounded_labels=np.argmax(y_test, axis=1)\n",
        "print(classification_report(rounded_labels, predictions, digits=3))"
      ],
      "execution_count": null,
      "outputs": [
        {
          "output_type": "stream",
          "name": "stdout",
          "text": [
            "              precision    recall  f1-score   support\n",
            "\n",
            "           0      0.913     0.633     0.748       199\n",
            "           1      0.551     0.218     0.313       197\n",
            "           2      0.848     0.810     0.828       158\n",
            "           3      0.454     0.618     0.523       136\n",
            "           4      0.756     0.870     0.809       910\n",
            "\n",
            "    accuracy                          0.733      1600\n",
            "   macro avg      0.704     0.630     0.644      1600\n",
            "weighted avg      0.734     0.733     0.718      1600\n",
            "\n"
          ]
        }
      ]
    },
    {
      "cell_type": "code",
      "metadata": {
        "colab": {
          "base_uri": "https://localhost:8080/",
          "height": 467
        },
        "id": "8SJL9ImTbILp",
        "outputId": "7ba2df59-03e0-45d1-b6a4-071131f39151"
      },
      "source": [
        "from sklearn.metrics import confusion_matrix\n",
        "from sklearn.metrics import classification_report\n",
        "\n",
        "testData = load_corpus('/content/drive/My Drive/TEST_FILE_FULL.TXT')\n",
        "filteredData = replaceRelations(testData)\n",
        "noComment = removeComments(filteredData)\n",
        "datasetStats(filteredData, noComment)\n",
        "jk = cleanComments(filteredData)\n",
        "lines = cleanSentences(noComment)\n",
        "sentences = removeTokens(lines)\n",
        "words, firstToken, secondToken = get_relative_position(sentences, maxSentenceLength)\n",
        "df = createDF(jk, words, firstToken, secondToken)\n",
        "df.head()\n"
      ],
      "execution_count": null,
      "outputs": [
        {
          "output_type": "stream",
          "name": "stdout",
          "text": [
            "8003\t\"The school <e1>master</e1> teaches the lesson with a <e2>stick</e2>.\"\n",
            "\n",
            "Other-Relation(e2,e1)\n",
            "\n",
            "Comment:\n",
            "\n",
            "\n",
            "\n",
            "Dataset Statistics\n",
            "Total sentences 2717\n",
            "Other-Relation -  1527 (56.20%)\n",
            "Cause-Effect -  328 (12.07%)\n",
            "Component-Whole -  312 (11.48%)\n",
            "Entity-Destination -  292 (10.75%)\n",
            "Entity-Origin -  258 (9.50%)\n"
          ]
        },
        {
          "output_type": "execute_result",
          "data": {
            "text/html": [
              "<div>\n",
              "<style scoped>\n",
              "    .dataframe tbody tr th:only-of-type {\n",
              "        vertical-align: middle;\n",
              "    }\n",
              "\n",
              "    .dataframe tbody tr th {\n",
              "        vertical-align: top;\n",
              "    }\n",
              "\n",
              "    .dataframe thead th {\n",
              "        text-align: right;\n",
              "    }\n",
              "</style>\n",
              "<table border=\"1\" class=\"dataframe\">\n",
              "  <thead>\n",
              "    <tr style=\"text-align: right;\">\n",
              "      <th></th>\n",
              "      <th>sentences</th>\n",
              "      <th>labels</th>\n",
              "      <th>firstToken</th>\n",
              "      <th>secondToken</th>\n",
              "    </tr>\n",
              "  </thead>\n",
              "  <tbody>\n",
              "    <tr>\n",
              "      <th>0</th>\n",
              "      <td>\"The most common audits were about waste and r...</td>\n",
              "      <td>Other-Relation</td>\n",
              "      <td>[495, 496, 497, 498, 499, 500, 501, 502, 503]</td>\n",
              "      <td>[492, 493, 494, 495, 496, 497, 498, 499, 500]</td>\n",
              "    </tr>\n",
              "    <tr>\n",
              "      <th>1</th>\n",
              "      <td>\"The company fabricates plastic chairs.\"</td>\n",
              "      <td>Other-Relation</td>\n",
              "      <td>[497, 498, 499, 500, 501]</td>\n",
              "      <td>[494, 495, 496, 497, 498]</td>\n",
              "    </tr>\n",
              "    <tr>\n",
              "      <th>2</th>\n",
              "      <td>\"The school master teaches the lesson with sti...</td>\n",
              "      <td>Other-Relation</td>\n",
              "      <td>[496, 497, 498, 499, 500, 501, 502, 503]</td>\n",
              "      <td>[491, 492, 493, 494, 495, 496, 497, 498]</td>\n",
              "    </tr>\n",
              "    <tr>\n",
              "      <th>3</th>\n",
              "      <td>\"The suspect dumped the dead body into local r...</td>\n",
              "      <td>Entity-Destination</td>\n",
              "      <td>[493, 494, 495, 496, 497, 498, 499, 500, 501]</td>\n",
              "      <td>[490, 491, 492, 493, 494, 495, 496, 497, 498]</td>\n",
              "    </tr>\n",
              "    <tr>\n",
              "      <th>4</th>\n",
              "      <td>\"Avian influenza is an infectious disease of b...</td>\n",
              "      <td>Cause-Effect</td>\n",
              "      <td>[497, 498, 499, 500, 501, 502, 503, 504, 505, ...</td>\n",
              "      <td>[483, 484, 485, 486, 487, 488, 489, 490, 491, ...</td>\n",
              "    </tr>\n",
              "  </tbody>\n",
              "</table>\n",
              "</div>"
            ],
            "text/plain": [
              "                                           sentences  ...                                        secondToken\n",
              "0  \"The most common audits were about waste and r...  ...      [492, 493, 494, 495, 496, 497, 498, 499, 500]\n",
              "1           \"The company fabricates plastic chairs.\"  ...                          [494, 495, 496, 497, 498]\n",
              "2  \"The school master teaches the lesson with sti...  ...           [491, 492, 493, 494, 495, 496, 497, 498]\n",
              "3  \"The suspect dumped the dead body into local r...  ...      [490, 491, 492, 493, 494, 495, 496, 497, 498]\n",
              "4  \"Avian influenza is an infectious disease of b...  ...  [483, 484, 485, 486, 487, 488, 489, 490, 491, ...\n",
              "\n",
              "[5 rows x 4 columns]"
            ]
          },
          "metadata": {},
          "execution_count": 26
        }
      ]
    },
    {
      "cell_type": "code",
      "metadata": {
        "colab": {
          "base_uri": "https://localhost:8080/"
        },
        "id": "ka-7Rgc8F7kp",
        "outputId": "fa7311ea-666a-41ea-9ab5-54046d2c3d0b"
      },
      "source": [
        "maxSentenceLength = 498\n",
        "\n",
        "seqs = getSequences(trainedTokenizer, words)\n",
        "X_seq = padX(seqs)\n",
        "X_pos1 = pad_sequences(firstToken, maxlen=maxSentenceLength)\n",
        "X_pos2 = pad_sequences(secondToken, maxlen=maxSentenceLength)\n",
        "\n",
        "len(X_seq)\n",
        "\n"
      ],
      "execution_count": null,
      "outputs": [
        {
          "output_type": "stream",
          "name": "stdout",
          "text": [
            "Found 19150 unique tokens.\n"
          ]
        },
        {
          "output_type": "execute_result",
          "data": {
            "text/plain": [
              "2717"
            ]
          },
          "metadata": {},
          "execution_count": 27
        }
      ]
    },
    {
      "cell_type": "code",
      "metadata": {
        "id": "HK51ekdGrHWo"
      },
      "source": [
        "prediction_probas_test = model.predict([X_seq, X_pos1, X_pos2])"
      ],
      "execution_count": null,
      "outputs": []
    },
    {
      "cell_type": "code",
      "metadata": {
        "colab": {
          "base_uri": "https://localhost:8080/",
          "height": 695
        },
        "id": "HNqgyqSfflfT",
        "outputId": "3fdd5077-28d0-4345-8618-86a218cb0d75"
      },
      "source": [
        "labels = encodeLables(df)\n",
        "print(labels)\n",
        "rounded_labels_test=np.argmax(labels, axis=1)\n",
        "predictions_test = [np.argmax(pred) for pred in prediction_probas_test]\n",
        "print(classification_report(rounded_labels_test, predictions_test, digits=3))\n",
        "plotCM(predictions_test, rounded_labels_test)"
      ],
      "execution_count": null,
      "outputs": [
        {
          "output_type": "stream",
          "name": "stdout",
          "text": [
            "[[0. 0. 0. 0. 1.]\n",
            " [0. 0. 0. 0. 1.]\n",
            " [0. 0. 0. 0. 1.]\n",
            " ...\n",
            " [0. 1. 0. 0. 0.]\n",
            " [0. 0. 0. 0. 1.]\n",
            " [0. 0. 1. 0. 0.]]\n",
            "              precision    recall  f1-score   support\n",
            "\n",
            "           0      0.763     0.805     0.783       328\n",
            "           1      0.431     0.442     0.437       312\n",
            "           2      0.828     0.709     0.764       292\n",
            "           3      0.574     0.589     0.581       258\n",
            "           4      0.783     0.788     0.786      1527\n",
            "\n",
            "    accuracy                          0.723      2717\n",
            "   macro avg      0.676     0.667     0.670      2717\n",
            "weighted avg      0.725     0.723     0.723      2717\n",
            "\n"
          ]
        },
        {
          "output_type": "display_data",
          "data": {
            "image/png": "[encoded data removed]",
            "text/plain": [
              "<Figure size 432x288 with 2 Axes>"
            ]
          },
          "metadata": {
            "needs_background": "light"
          }
        }
      ]
    },
    {
      "cell_type": "code",
      "metadata": {
        "colab": {
          "base_uri": "https://localhost:8080/"
        },
        "id": "h9c3nZIWhkI3",
        "outputId": "2ecd78ce-8f27-4fc7-a744-0646d69b67cb"
      },
      "source": [
        "\n",
        "# testSentence = \"Then, the target PET <eO>bottle was put inside of a metal <eT>container, which was grounded.\"\n",
        "\n",
        "sentences = df['sentences'][0:50].tolist()\n",
        "labs = df['labels'][0:50].tolist()\n",
        "firstToken = firstToken[0:50]\n",
        "secondToken = secondToken[0:50]\n",
        "maxSentenceLength = 498\n",
        "seqs = getSequences(trainedTokenizer, sentences)\n",
        "X_seq_test = padX(seqs)\n",
        "X_pos1_test = pad_sequences(firstToken, maxlen=maxSentenceLength)\n",
        "X_pos2_test = pad_sequences(secondToken, maxlen=maxSentenceLength)\n",
        "predictions_testing = model.predict([X_seq_test, X_pos1_test, X_pos2_test])\n",
        "preds_testing = [np.argmax(pred) for pred in predictions_testing]\n",
        "\n",
        "\n"
      ],
      "execution_count": null,
      "outputs": [
        {
          "output_type": "stream",
          "name": "stdout",
          "text": [
            "Found 19150 unique tokens.\n"
          ]
        }
      ]
    },
    {
      "cell_type": "code",
      "metadata": {
        "colab": {
          "base_uri": "https://localhost:8080/"
        },
        "id": "Dbg8zT0EzFt8",
        "outputId": "daa1ae92-b8a2-42f6-efa3-6e336b934c7d"
      },
      "source": [
        "correct = 0\n",
        "wrong = 0\n",
        "for sent, pred, lab in zip(sentences, preds_testing, labs):\n",
        "  print(\"Sentence:\", sent)\n",
        "  print(\"Prediction:\", pred, transformedLables[pred])\n",
        "  print(\"Actual:\", lab)\n",
        "  if transformedLables[pred] == lab:\n",
        "    print(\"CORRECT\")\n",
        "    correct+=1\n",
        "  else:\n",
        "    print(\"WRONG\")\n",
        "    wrong+=1\n",
        "print(\"Total correct\", correct)\n",
        "print(\"Total wrong\", wrong)"
      ],
      "execution_count": null,
      "outputs": [
        {
          "output_type": "stream",
          "name": "stdout",
          "text": [
            "Sentence: \"The most common audits were about waste and recycling.\"\n",
            "Prediction: 4 Other-Relation\n",
            "Actual: Other-Relation\n",
            "CORRECT\n",
            "Sentence: \"The company fabricates plastic chairs.\"\n",
            "Prediction: 1 Component-Whole\n",
            "Actual: Other-Relation\n",
            "WRONG\n",
            "Sentence: \"The school master teaches the lesson with stick.\"\n",
            "Prediction: 4 Other-Relation\n",
            "Actual: Other-Relation\n",
            "CORRECT\n",
            "Sentence: \"The suspect dumped the dead body into local reservoir.\"\n",
            "Prediction: 2 Entity-Destination\n",
            "Actual: Entity-Destination\n",
            "CORRECT\n",
            "Sentence: \"Avian influenza is an infectious disease of birds caused by type strains of the influenza virus.\"\n",
            "Prediction: 0 Cause-Effect\n",
            "Actual: Cause-Effect\n",
            "CORRECT\n",
            "Sentence: \"The ear of the African elephant is significantly larger--measuring cm by cm in the bush elephant.\"\n",
            "Prediction: 1 Component-Whole\n",
            "Actual: Component-Whole\n",
            "CORRECT\n",
            "Sentence: \"A child is told lie for several years by their parents before he/she realizes that Santa Claus does not exist.\"\n",
            "Prediction: 4 Other-Relation\n",
            "Actual: Other-Relation\n",
            "CORRECT\n",
            "Sentence: \"Skype, free software, allows hookup of multiple computer users to join in an online conference call without incurring any telephone costs.\"\n",
            "Prediction: 4 Other-Relation\n",
            "Actual: Other-Relation\n",
            "CORRECT\n",
            "Sentence: \"The disgusting scene was retaliation against her brother Philip who rents the room inside this apartment house on Lombard street.\"\n",
            "Prediction: 4 Other-Relation\n",
            "Actual: Component-Whole\n",
            "WRONG\n",
            "Sentence: \"This thesis defines the clinical characteristics of amyloid disease.\"\n",
            "Prediction: 4 Other-Relation\n",
            "Actual: Other-Relation\n",
            "CORRECT\n",
            "Sentence: \"Ten million quake survivors moved into makeshift houses.\"\n",
            "Prediction: 2 Entity-Destination\n",
            "Actual: Entity-Destination\n",
            "CORRECT\n",
            "Sentence: \"On friend's advice, purchased sauerkraut and kimchi maker here and it is just fabulous (and cheap too).\"\n",
            "Prediction: 1 Component-Whole\n",
            "Actual: Other-Relation\n",
            "WRONG\n",
            "Sentence: \"NASA Kepler mission sends names into space.\"\n",
            "Prediction: 2 Entity-Destination\n",
            "Actual: Entity-Destination\n",
            "CORRECT\n",
            "Sentence: \"As landscape company in Atlanta, we know which plants thrive in this planting zone and know the optimum landscaping designs for local yards and business.\"\n",
            "Prediction: 4 Other-Relation\n",
            "Actual: Other-Relation\n",
            "CORRECT\n",
            "Sentence: \"As was contemplating if had favorite in the pink category, gift arrived from sweet friend.\"\n",
            "Prediction: 3 Entity-Origin\n",
            "Actual: Entity-Origin\n",
            "CORRECT\n",
            "Sentence: \"The male took over the entire care of the young that had left the nest.\"\n",
            "Prediction: 4 Other-Relation\n",
            "Actual: Entity-Origin\n",
            "WRONG\n",
            "Sentence: \"The famous actress arrived at the airport.\"\n",
            "Prediction: 4 Other-Relation\n",
            "Actual: Entity-Destination\n",
            "WRONG\n",
            "Sentence: \"An FTP server is an inexpensive and relatively simple to operate tool that works great for filesharing over the internet.\"\n",
            "Prediction: 4 Other-Relation\n",
            "Actual: Other-Relation\n",
            "CORRECT\n",
            "Sentence: \"Beneath this invocation there is zoo of fearsome beasts, including several man-eaters, as well as sphinxes with lions' bodies and human heads.\"\n",
            "Prediction: 4 Other-Relation\n",
            "Actual: Other-Relation\n",
            "CORRECT\n",
            "Sentence: \"The song was composed for famous Brazilian musician.\"\n",
            "Prediction: 4 Other-Relation\n",
            "Actual: Other-Relation\n",
            "CORRECT\n",
            "Sentence: \"This outline focuses on spirituality, esotericism, mysticism, religion and/or parapsychology.\"\n",
            "Prediction: 4 Other-Relation\n",
            "Actual: Other-Relation\n",
            "CORRECT\n",
            "Sentence: \"The bomb was in suitcase loaded in Frankfurt and transferred to the doomed Boeing in London.\"\n",
            "Prediction: 4 Other-Relation\n",
            "Actual: Other-Relation\n",
            "CORRECT\n",
            "Sentence: \"I spent year working for software company to pay off my college loans.\"\n",
            "Prediction: 4 Other-Relation\n",
            "Actual: Other-Relation\n",
            "CORRECT\n",
            "Sentence: \"The captain and the crew of the Steve Irwin are grateful for the support of the City of Fremantle and Mayor Brad Pettitt for hosting the event.\"\n",
            "Prediction: 1 Component-Whole\n",
            "Actual: Other-Relation\n",
            "WRONG\n",
            "Sentence: \"Organic sesame oil has an anti-bacterial and anti imflammatory effect.\"\n",
            "Prediction: 0 Cause-Effect\n",
            "Actual: Entity-Origin\n",
            "WRONG\n",
            "Sentence: \"Mileson has sold his humble abode to housing developer.\"\n",
            "Prediction: 4 Other-Relation\n",
            "Actual: Other-Relation\n",
            "CORRECT\n",
            "Sentence: \"The same effect is achieved the traditional way, with team of workers like Keebler elves.\"\n",
            "Prediction: 4 Other-Relation\n",
            "Actual: Cause-Effect\n",
            "WRONG\n",
            "Sentence: \"He has built formidable reputation writing powerful dramas for the stage and screen, based on real events or socially vital issues.\"\n",
            "Prediction: 4 Other-Relation\n",
            "Actual: Other-Relation\n",
            "CORRECT\n",
            "Sentence: \"He produces drawings and videos that have been shown in museums in Europe and America.\"\n",
            "Prediction: 4 Other-Relation\n",
            "Actual: Other-Relation\n",
            "CORRECT\n",
            "Sentence: \"Therefore, nowadays China is the complex mixture of different cultures from various epochs.\"\n",
            "Prediction: 3 Entity-Origin\n",
            "Actual: Entity-Origin\n",
            "CORRECT\n",
            "Sentence: \"Of the hundreds of strains of avian influenza viruses, only four have caused human infections: HN, HN, HN, and HN.\"\n",
            "Prediction: 0 Cause-Effect\n",
            "Actual: Cause-Effect\n",
            "CORRECT\n",
            "Sentence: \"Many of his literary pieces narrate and mention stories that took place in Lipa.\"\n",
            "Prediction: 4 Other-Relation\n",
            "Actual: Other-Relation\n",
            "CORRECT\n",
            "Sentence: \"When I'm walking alone, count the steps of the stairs, and also guess approximately how many steps are left till reach the next street.\"\n",
            "Prediction: 4 Other-Relation\n",
            "Actual: Component-Whole\n",
            "WRONG\n",
            "Sentence: \"Essentially, the blisters that appear in the mouth are caused by the herpes simplex virus type HSV- for short.\"\n",
            "Prediction: 0 Cause-Effect\n",
            "Actual: Other-Relation\n",
            "WRONG\n",
            "Sentence: \"The man at the helm was watching the luff of the sail and whistling away gently to himself, and that was the only sound excepting the swish of the sea.\"\n",
            "Prediction: 4 Other-Relation\n",
            "Actual: Component-Whole\n",
            "WRONG\n",
            "Sentence: \"Still further, the circuit comprises digital adder and an analog-to-digital converter with an analog input connected to the output of the operational amplifier and digital output connected to first input of the digital adder.\"\n",
            "Prediction: 1 Component-Whole\n",
            "Actual: Component-Whole\n",
            "CORRECT\n",
            "Sentence: \"Dolf Oehler, leader in the leftist camp of Heine champions since the s, gathered group of likeminded critics for this symposium.\"\n",
            "Prediction: 4 Other-Relation\n",
            "Actual: Other-Relation\n",
            "CORRECT\n",
            "Sentence: \"The cartridge was marked as empty, even with ink in both chambers.\"\n",
            "Prediction: 4 Other-Relation\n",
            "Actual: Other-Relation\n",
            "CORRECT\n",
            "Sentence: \"A pod of sperm whales was beached on Italy's southern coast and at least five died in what experts said was rare and puzzling mass beaching for such large species.\"\n",
            "Prediction: 4 Other-Relation\n",
            "Actual: Other-Relation\n",
            "CORRECT\n",
            "Sentence: \"Roundworms or ascarids are caused by an intestinal parasite called Toxocara canis.\"\n",
            "Prediction: 0 Cause-Effect\n",
            "Actual: Other-Relation\n",
            "WRONG\n",
            "Sentence: \"The subject of \"imply\" is the source of an implication while the subject of \"infer\" is the recipient of an implication.\"\n",
            "Prediction: 4 Other-Relation\n",
            "Actual: Cause-Effect\n",
            "WRONG\n",
            "Sentence: \"My cat has problem with his paw.\"\n",
            "Prediction: 4 Other-Relation\n",
            "Actual: Component-Whole\n",
            "WRONG\n",
            "Sentence: \"The treaty establishes double majority rule for Council decisions.\"\n",
            "Prediction: 4 Other-Relation\n",
            "Actual: Cause-Effect\n",
            "WRONG\n",
            "Sentence: \"The accident has spread oil into the ocean.\"\n",
            "Prediction: 2 Entity-Destination\n",
            "Actual: Entity-Destination\n",
            "CORRECT\n",
            "Sentence: \"A tidal wave of talent has emanated from this lush village.\"\n",
            "Prediction: 4 Other-Relation\n",
            "Actual: Entity-Origin\n",
            "WRONG\n",
            "Sentence: \"These coins are enclosed in clear hard plastic case with blue background that is packaged in blue box.\"\n",
            "Prediction: 4 Other-Relation\n",
            "Actual: Other-Relation\n",
            "CORRECT\n",
            "Sentence: \"By dividing the space in kitchen drawer where you keep all your cooking utensils, you grouped items by size or purpose.\"\n",
            "Prediction: 4 Other-Relation\n",
            "Actual: Other-Relation\n",
            "CORRECT\n",
            "Sentence: \"Then, the target PET bottle was put inside of metal container, which was grounded.\"\n",
            "Prediction: 2 Entity-Destination\n",
            "Actual: Entity-Destination\n",
            "CORRECT\n",
            "Sentence: \"News programs commented on the violence from the game and expressed worries on how it would affect the players' personalities.\"\n",
            "Prediction: 4 Other-Relation\n",
            "Actual: Other-Relation\n",
            "CORRECT\n",
            "Sentence: \"The narrative comprises the interplay of two themes that are woven together as it criss-crosses back and forth between the life of nineteen year old Greg Kowalski's desire to become firefighter and his heart-rending life growing up in Saginaw Michigan where he had to endure the physical and verbal abuse handed out by his appalling father.\"\n",
            "Prediction: 4 Other-Relation\n",
            "Actual: Other-Relation\n",
            "CORRECT\n",
            "Total correct 34\n",
            "Total wrong 16\n"
          ]
        }
      ]
    },
    {
      "cell_type": "code",
      "metadata": {
        "id": "zd6Mw5XRpkXP",
        "colab": {
          "base_uri": "https://localhost:8080/"
        },
        "outputId": "44590fb9-1877-474d-d5bc-85524276be0b"
      },
      "source": [
        "testSentences = [\"The <e1>monitor</e1> comprises the display device, <e2>circuitry</e2>, and an enclosure.\",\n",
        "                 \"The joey is blind at birth, and must instinctively ascend their <e1>mother</e1>'s <e2>belly</e2> and crawl into the nurturing pouch.\"]\n",
        "testLabels = [\"Cause-Effect\", \"Other-Relation\"]\n",
        "formattedSentences = cleanSentences(testSentences)\n",
        "maxSentenceLength = 498\n",
        "lines = removeTokens(formattedSentences)\n",
        "words, firstToken, secondToken = get_relative_position(lines, maxSentenceLength)\n",
        "\n",
        "seqs = getSequences(trainedTokenizer, words)\n",
        "X_seq_demo = padX(seqs)\n",
        "X_pos1_demo = pad_sequences(firstToken, maxlen=maxSentenceLength)\n",
        "X_pos2_demo = pad_sequences(secondToken, maxlen=maxSentenceLength)\n",
        "\n",
        "\n",
        "predictions_demo = model.predict([X_seq_demo, X_pos1_demo, X_pos2_demo])\n",
        "preds_demo = [np.argmax(pred) for pred in predictions_demo]\n",
        "\n",
        "\n",
        "correct = 0\n",
        "wrong = 0\n",
        "for sent, pred, lab in zip(formattedSentences, preds_demo, testLabels):\n",
        "  print(\"Sentence:\", sent)\n",
        "  print(\"Prediction:\", pred, transformedLables[pred])\n",
        "#   # print(\"Actual:\", lab)\n",
        "#   if transformedLables[pred] == lab:\n",
        "#     print(\"CORRECT\")\n",
        "#     correct+=1\n",
        "#   else:\n",
        "#     print(\"WRONG\")\n",
        "#     wrong+=1\n",
        "# print(\"Total correct\", correct)\n",
        "# print(\"Total wrong\", wrong)\n",
        "\n"
      ],
      "execution_count": null,
      "outputs": [
        {
          "output_type": "stream",
          "name": "stdout",
          "text": [
            "Found 19150 unique tokens.\n",
            "Sentence: The <e1>monitor</e1> comprises the display device, <e2>circuitry</e2>, and an enclosure.\n",
            "Prediction: 1 Component-Whole\n",
            "Sentence: The joey is blind at birth, and must instinctively ascend their <e1>mother</e1>'s <e2>belly</e2> and crawl into the nurturing pouch.\n",
            "Prediction: 1 Component-Whole\n"
          ]
        }
      ]
    }
  ]
}